{
 "cells": [
  {
   "cell_type": "code",
   "execution_count": 1,
   "id": "8425ce50",
   "metadata": {},
   "outputs": [],
   "source": [
    "from keras.preprocessing.image import ImageDataGenerator\n",
    "from skimage import io\n",
    "import numpy as np\n",
    "import os\n",
    "from PIL import Image\n",
    "from skimage.util import random_noise"
   ]
  },
  {
   "cell_type": "markdown",
   "id": "458044f1",
   "metadata": {},
   "source": [
    "## Data augmentation for a single folder"
   ]
  },
  {
   "cell_type": "markdown",
   "id": "0519bc25",
   "metadata": {},
   "source": [
    "datagen = ImageDataGenerator(        \n",
    "    rotation_range=40,\n",
    "    shear_range=0.2,\n",
    "    horizontal_flip=True,\n",
    "    brightness_range=(0.5, 1.5))\n",
    "\n",
    "image_directory = r'D:/data/Andorra_2019/'\n",
    "SIZE = 96\n",
    "dataset = []\n",
    "my_images = os.listdir(image_directory)\n",
    "for i, image_name in enumerate(my_images):\n",
    "    if (image_name.split('.')[1] == 'jpg'):\n",
    "        image = io.imread(image_directory + image_name)\n",
    "        image = Image.fromarray(image, 'RGB')\n",
    "        image = image.resize((SIZE, SIZE))\n",
    "        \n",
    "        # Convert image to NumPy array\n",
    "        image_array = np.array(image)\n",
    "        \n",
    "        # Add noise to the image\n",
    "        noisy_image = random_noise(image_array, mode='gaussian', var=0.01)  # Adjust the var parameter as desired\n",
    "        \n",
    "        # Scale the pixel values to the valid range (0-255)\n",
    "        noisy_image = np.clip(255 * noisy_image, 0, 255).astype(np.uint8)\n",
    "        \n",
    "        dataset.append(noisy_image)\n",
    "        \n",
    "x = np.array(dataset)\n",
    "i = 0\n",
    "for batch in datagen.flow(x, batch_size=8,\n",
    "                          save_to_dir=r'D:/Augmented-images/Andorra_2019/',\n",
    "                          save_prefix=image_name.split('.')[0],\n",
    "                          save_format='jpg'):\n",
    "    i += 1\n",
    "    if i > 30:\n",
    "        break\n",
    "\n"
   ]
  },
  {
   "cell_type": "markdown",
   "id": "a405af42",
   "metadata": {},
   "source": [
    "## Data augmentation for all subfolders"
   ]
  },
  {
   "cell_type": "code",
   "execution_count": 3,
   "id": "9e2e6c51",
   "metadata": {},
   "outputs": [
    {
     "name": "stdout",
     "output_type": "stream",
     "text": [
      "Data Augmented!\n"
     ]
    }
   ],
   "source": [
    "subfolders = [\n",
    "    'Andorra_2019',\n",
    "    'Common',\n",
    "    'Lithuania_2021',\n",
    "    'Monaco_2015',\n",
    "    'Monaco_2016',\n",
    "    'Monaco_2017',\n",
    "    'Monaco_2018',\n",
    "    'Monaco_2019',\n",
    "    'SanMarino_2004',\n",
    "    'SanMarino_2005',\n",
    "    'Vatican_2004',\n",
    "    'Vatican_2005',\n",
    "    'Vatican_2006'\n",
    "]\n",
    "\n",
    "SIZE = 224\n",
    "\n",
    "datagen = ImageDataGenerator(        \n",
    "    rotation_range=40,\n",
    "    shear_range=0.2,\n",
    "    horizontal_flip=True,\n",
    "    vertical_flip=True, \n",
    "    #zoom_range=0.2,           \n",
    "    width_shift_range=0.2,    \n",
    "    height_shift_range=0.2,  \n",
    "    brightness_range=(0.5, 1.5))\n",
    "\n",
    "for subfolder in subfolders:\n",
    "    image_directory = f'D:/data/{subfolder}/'\n",
    "    dataset = []\n",
    "    my_images = os.listdir(image_directory)\n",
    "    for i, image_name in enumerate(my_images):\n",
    "        if image_name.split('.')[1] == 'jpg':\n",
    "            image = io.imread(image_directory + image_name)\n",
    "            image = Image.fromarray(image, 'RGB')\n",
    "            image = image.resize((SIZE, SIZE))\n",
    "\n",
    "            # Convert image to NumPy array\n",
    "            image_array = np.array(image)\n",
    "\n",
    "            # Add noise to the image\n",
    "            noisy_image = random_noise(image_array, mode='gaussian', var=0.01)  # Adjust the var parameter as desired\n",
    "\n",
    "            # Scale the pixel values to the valid range (0-255)\n",
    "            noisy_image = np.clip(255 * noisy_image, 0, 255).astype(np.uint8)\n",
    "\n",
    "            dataset.append(noisy_image)\n",
    "\n",
    "    x = np.array(dataset)\n",
    "    i = 0\n",
    "    \n",
    "    save_directory = f'D:/augmented-images/{subfolder}/'\n",
    "    os.makedirs(save_directory, exist_ok=True)  # Create subfolder if it doesn't exist\n",
    "\n",
    "    for batch in datagen.flow(x, batch_size=8,\n",
    "                              save_to_dir=save_directory,\n",
    "                              save_prefix=image_name.split('.')[0],\n",
    "                              save_format='jpg'):\n",
    "        i += 1\n",
    "        if i > 40:\n",
    "            break\n",
    "\n",
    "print(\"Data Augmented!\")"
   ]
  },
  {
   "cell_type": "code",
   "execution_count": null,
   "id": "0594626e",
   "metadata": {},
   "outputs": [],
   "source": []
  }
 ],
 "metadata": {
  "kernelspec": {
   "display_name": "Python 3 (ipykernel)",
   "language": "python",
   "name": "python3"
  },
  "language_info": {
   "codemirror_mode": {
    "name": "ipython",
    "version": 3
   },
   "file_extension": ".py",
   "mimetype": "text/x-python",
   "name": "python",
   "nbconvert_exporter": "python",
   "pygments_lexer": "ipython3",
   "version": "3.10.9"
  }
 },
 "nbformat": 4,
 "nbformat_minor": 5
}
