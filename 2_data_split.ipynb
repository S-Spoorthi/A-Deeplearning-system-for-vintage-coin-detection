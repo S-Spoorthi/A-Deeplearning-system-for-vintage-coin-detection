{
 "cells": [
  {
   "cell_type": "markdown",
   "id": "059d2fba",
   "metadata": {},
   "source": [
    "#pip install numpy"
   ]
  },
  {
   "cell_type": "markdown",
   "id": "386141b3",
   "metadata": {},
   "source": [
    "## import packages"
   ]
  },
  {
   "cell_type": "code",
   "execution_count": 1,
   "id": "b792d050",
   "metadata": {},
   "outputs": [],
   "source": [
    "import tensorflow as tf\n",
    "import numpy as np\n",
    "from tensorflow.keras.preprocessing.image import ImageDataGenerator\n",
    "import os\n",
    "import random\n",
    "import tensorflow as tf\n",
    "import shutil"
   ]
  },
  {
   "cell_type": "markdown",
   "id": "e1a28c49",
   "metadata": {},
   "source": [
    "## Data split into train and test"
   ]
  },
  {
   "cell_type": "code",
   "execution_count": 2,
   "id": "67ad3be3",
   "metadata": {},
   "outputs": [
    {
     "name": "stdout",
     "output_type": "stream",
     "text": [
      "Data splitting and shuffling completed!\n"
     ]
    }
   ],
   "source": [
    "data_path = 'D:/augmented-images'\n",
    "output_path = 'D:/data_split'\n",
    "\n",
    "subfolders = [\n",
    "    'Andorra_2019',\n",
    "    'Common',\n",
    "    'Lithuania_2021',\n",
    "    'Monaco_2015',\n",
    "    'Monaco_2016',\n",
    "    'Monaco_2017',\n",
    "    'Monaco_2018',\n",
    "    'Monaco_2019',\n",
    "    'SanMarino_2004',\n",
    "    'SanMarino_2005',\n",
    "    'Vatican_2004',\n",
    "    'Vatican_2005',\n",
    "    'Vatican_2006'\n",
    "]\n",
    "\n",
    "train_ratio = 0.9\n",
    "random_seed = 42\n",
    "\n",
    "# Create train and test folders\n",
    "train_path = os.path.join(output_path, 'train')\n",
    "test_path = os.path.join(output_path, 'test')\n",
    "os.makedirs(train_path, exist_ok=True)\n",
    "os.makedirs(test_path, exist_ok=True)\n",
    "\n",
    "# Iterate over each subfolder\n",
    "for subfolder in subfolders:\n",
    "    subfolder_path = os.path.join(data_path, subfolder)\n",
    "    train_subfolder_path = os.path.join(train_path, subfolder)\n",
    "    test_subfolder_path = os.path.join(test_path, subfolder)\n",
    "    os.makedirs(train_subfolder_path, exist_ok=True)\n",
    "    os.makedirs(test_subfolder_path, exist_ok=True)\n",
    "\n",
    "    # Collect file names in the subfolder\n",
    "    file_names = os.listdir(subfolder_path)\n",
    "    random.Random(random_seed).shuffle(file_names)  # Shuffle the file names\n",
    "\n",
    "    # Split files into train and test sets\n",
    "    split_index = int(train_ratio * len(file_names))\n",
    "    train_files = file_names[:split_index]\n",
    "    test_files = file_names[split_index:]\n",
    "\n",
    "    # Move train files to the train subfolder\n",
    "    for file in train_files:\n",
    "        src_path = os.path.join(subfolder_path, file)\n",
    "        dst_path = os.path.join(train_subfolder_path, file)\n",
    "        shutil.copy2(src_path, dst_path)\n",
    "\n",
    "    # Move test files to the test subfolder\n",
    "    for file in test_files:\n",
    "        src_path = os.path.join(subfolder_path, file)\n",
    "        dst_path = os.path.join(test_subfolder_path, file)\n",
    "        shutil.copy2(src_path, dst_path)\n",
    "\n",
    "print(\"Data splitting and shuffling completed!\")\n"
   ]
  },
  {
   "cell_type": "code",
   "execution_count": null,
   "id": "ef2490f8",
   "metadata": {},
   "outputs": [],
   "source": []
  }
 ],
 "metadata": {
  "kernelspec": {
   "display_name": "Python 3 (ipykernel)",
   "language": "python",
   "name": "python3"
  },
  "language_info": {
   "codemirror_mode": {
    "name": "ipython",
    "version": 3
   },
   "file_extension": ".py",
   "mimetype": "text/x-python",
   "name": "python",
   "nbconvert_exporter": "python",
   "pygments_lexer": "ipython3",
   "version": "3.10.9"
  }
 },
 "nbformat": 4,
 "nbformat_minor": 5
}
